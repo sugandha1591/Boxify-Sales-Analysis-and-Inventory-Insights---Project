{
 "cells": [
  {
   "cell_type": "code",
   "execution_count": 1,
   "id": "4a7c3a93-4184-47b7-98c0-e5ce3a8de570",
   "metadata": {},
   "outputs": [],
   "source": [
    "import pandas as pd\n",
    "import warnings\n",
    "warnings.filterwarnings(\"ignore\")"
   ]
  },
  {
   "cell_type": "code",
   "execution_count": 3,
   "id": "1464359c-75c0-4166-baf1-cb439f1301e2",
   "metadata": {},
   "outputs": [],
   "source": [
    "df= pd.read_csv(\"Boxify Dataset - Data Analyst Bootcamp.csv\")"
   ]
  },
  {
   "cell_type": "code",
   "execution_count": 5,
   "id": "4378a3c8-8d93-4957-8da9-6faba1f7c224",
   "metadata": {},
   "outputs": [
    {
     "data": {
      "text/html": [
       "<div>\n",
       "<style scoped>\n",
       "    .dataframe tbody tr th:only-of-type {\n",
       "        vertical-align: middle;\n",
       "    }\n",
       "\n",
       "    .dataframe tbody tr th {\n",
       "        vertical-align: top;\n",
       "    }\n",
       "\n",
       "    .dataframe thead th {\n",
       "        text-align: right;\n",
       "    }\n",
       "</style>\n",
       "<table border=\"1\" class=\"dataframe\">\n",
       "  <thead>\n",
       "    <tr style=\"text-align: right;\">\n",
       "      <th></th>\n",
       "      <th>Order</th>\n",
       "      <th>File_Type</th>\n",
       "      <th>SKU_number</th>\n",
       "      <th>SoldFlag</th>\n",
       "      <th>SoldCount</th>\n",
       "      <th>MarketingType</th>\n",
       "      <th>ReleaseNumber</th>\n",
       "      <th>New_Release_Flag</th>\n",
       "      <th>StrengthFactor</th>\n",
       "      <th>PriceReg</th>\n",
       "      <th>ReleaseYear</th>\n",
       "      <th>ItemCount</th>\n",
       "      <th>LowUserPrice</th>\n",
       "      <th>LowNetPrice</th>\n",
       "    </tr>\n",
       "  </thead>\n",
       "  <tbody>\n",
       "    <tr>\n",
       "      <th>0</th>\n",
       "      <td>2</td>\n",
       "      <td>Historical</td>\n",
       "      <td>1737127</td>\n",
       "      <td>0.0</td>\n",
       "      <td>0.0</td>\n",
       "      <td>D</td>\n",
       "      <td>15</td>\n",
       "      <td>1</td>\n",
       "      <td>6.827430e+05</td>\n",
       "      <td>44.99</td>\n",
       "      <td>2015</td>\n",
       "      <td>8</td>\n",
       "      <td>28.97</td>\n",
       "      <td>31.84</td>\n",
       "    </tr>\n",
       "    <tr>\n",
       "      <th>1</th>\n",
       "      <td>3</td>\n",
       "      <td>Historical</td>\n",
       "      <td>3255963</td>\n",
       "      <td>0.0</td>\n",
       "      <td>0.0</td>\n",
       "      <td>D</td>\n",
       "      <td>7</td>\n",
       "      <td>1</td>\n",
       "      <td>1.016014e+06</td>\n",
       "      <td>24.81</td>\n",
       "      <td>2005</td>\n",
       "      <td>39</td>\n",
       "      <td>0.00</td>\n",
       "      <td>15.54</td>\n",
       "    </tr>\n",
       "    <tr>\n",
       "      <th>2</th>\n",
       "      <td>4</td>\n",
       "      <td>Historical</td>\n",
       "      <td>612701</td>\n",
       "      <td>0.0</td>\n",
       "      <td>0.0</td>\n",
       "      <td>D</td>\n",
       "      <td>0</td>\n",
       "      <td>0</td>\n",
       "      <td>3.404640e+05</td>\n",
       "      <td>46.00</td>\n",
       "      <td>2013</td>\n",
       "      <td>34</td>\n",
       "      <td>30.19</td>\n",
       "      <td>27.97</td>\n",
       "    </tr>\n",
       "    <tr>\n",
       "      <th>3</th>\n",
       "      <td>6</td>\n",
       "      <td>Historical</td>\n",
       "      <td>115883</td>\n",
       "      <td>1.0</td>\n",
       "      <td>1.0</td>\n",
       "      <td>D</td>\n",
       "      <td>4</td>\n",
       "      <td>1</td>\n",
       "      <td>3.340110e+05</td>\n",
       "      <td>100.00</td>\n",
       "      <td>2006</td>\n",
       "      <td>20</td>\n",
       "      <td>133.93</td>\n",
       "      <td>83.15</td>\n",
       "    </tr>\n",
       "    <tr>\n",
       "      <th>4</th>\n",
       "      <td>7</td>\n",
       "      <td>Historical</td>\n",
       "      <td>863939</td>\n",
       "      <td>1.0</td>\n",
       "      <td>1.0</td>\n",
       "      <td>D</td>\n",
       "      <td>2</td>\n",
       "      <td>1</td>\n",
       "      <td>1.287938e+06</td>\n",
       "      <td>121.95</td>\n",
       "      <td>2010</td>\n",
       "      <td>28</td>\n",
       "      <td>4.00</td>\n",
       "      <td>23.99</td>\n",
       "    </tr>\n",
       "    <tr>\n",
       "      <th>...</th>\n",
       "      <td>...</td>\n",
       "      <td>...</td>\n",
       "      <td>...</td>\n",
       "      <td>...</td>\n",
       "      <td>...</td>\n",
       "      <td>...</td>\n",
       "      <td>...</td>\n",
       "      <td>...</td>\n",
       "      <td>...</td>\n",
       "      <td>...</td>\n",
       "      <td>...</td>\n",
       "      <td>...</td>\n",
       "      <td>...</td>\n",
       "      <td>...</td>\n",
       "    </tr>\n",
       "    <tr>\n",
       "      <th>198912</th>\n",
       "      <td>208023</td>\n",
       "      <td>Active</td>\n",
       "      <td>109683</td>\n",
       "      <td>NaN</td>\n",
       "      <td>NaN</td>\n",
       "      <td>D</td>\n",
       "      <td>7</td>\n",
       "      <td>1</td>\n",
       "      <td>2.101869e+05</td>\n",
       "      <td>72.87</td>\n",
       "      <td>2006</td>\n",
       "      <td>54</td>\n",
       "      <td>8.46</td>\n",
       "      <td>60.59</td>\n",
       "    </tr>\n",
       "    <tr>\n",
       "      <th>198913</th>\n",
       "      <td>208024</td>\n",
       "      <td>Active</td>\n",
       "      <td>416462</td>\n",
       "      <td>NaN</td>\n",
       "      <td>NaN</td>\n",
       "      <td>D</td>\n",
       "      <td>8</td>\n",
       "      <td>1</td>\n",
       "      <td>4.555041e+05</td>\n",
       "      <td>247.00</td>\n",
       "      <td>2009</td>\n",
       "      <td>65</td>\n",
       "      <td>8.40</td>\n",
       "      <td>74.85</td>\n",
       "    </tr>\n",
       "    <tr>\n",
       "      <th>198914</th>\n",
       "      <td>208025</td>\n",
       "      <td>Active</td>\n",
       "      <td>658242</td>\n",
       "      <td>NaN</td>\n",
       "      <td>NaN</td>\n",
       "      <td>S</td>\n",
       "      <td>2</td>\n",
       "      <td>1</td>\n",
       "      <td>1.692746e+05</td>\n",
       "      <td>50.00</td>\n",
       "      <td>2012</td>\n",
       "      <td>23</td>\n",
       "      <td>23.98</td>\n",
       "      <td>32.62</td>\n",
       "    </tr>\n",
       "    <tr>\n",
       "      <th>198915</th>\n",
       "      <td>208026</td>\n",
       "      <td>Active</td>\n",
       "      <td>2538340</td>\n",
       "      <td>NaN</td>\n",
       "      <td>NaN</td>\n",
       "      <td>S</td>\n",
       "      <td>2</td>\n",
       "      <td>1</td>\n",
       "      <td>3.775266e+05</td>\n",
       "      <td>46.95</td>\n",
       "      <td>2001</td>\n",
       "      <td>23</td>\n",
       "      <td>27.42</td>\n",
       "      <td>37.89</td>\n",
       "    </tr>\n",
       "    <tr>\n",
       "      <th>198916</th>\n",
       "      <td>208027</td>\n",
       "      <td>Active</td>\n",
       "      <td>416662</td>\n",
       "      <td>NaN</td>\n",
       "      <td>NaN</td>\n",
       "      <td>D</td>\n",
       "      <td>15</td>\n",
       "      <td>1</td>\n",
       "      <td>1.183068e+05</td>\n",
       "      <td>120.00</td>\n",
       "      <td>2010</td>\n",
       "      <td>44</td>\n",
       "      <td>10.97</td>\n",
       "      <td>60.67</td>\n",
       "    </tr>\n",
       "  </tbody>\n",
       "</table>\n",
       "<p>198917 rows × 14 columns</p>\n",
       "</div>"
      ],
      "text/plain": [
       "         Order   File_Type  SKU_number  SoldFlag  SoldCount MarketingType  \\\n",
       "0            2  Historical     1737127       0.0        0.0             D   \n",
       "1            3  Historical     3255963       0.0        0.0             D   \n",
       "2            4  Historical      612701       0.0        0.0             D   \n",
       "3            6  Historical      115883       1.0        1.0             D   \n",
       "4            7  Historical      863939       1.0        1.0             D   \n",
       "...        ...         ...         ...       ...        ...           ...   \n",
       "198912  208023      Active      109683       NaN        NaN             D   \n",
       "198913  208024      Active      416462       NaN        NaN             D   \n",
       "198914  208025      Active      658242       NaN        NaN             S   \n",
       "198915  208026      Active     2538340       NaN        NaN             S   \n",
       "198916  208027      Active      416662       NaN        NaN             D   \n",
       "\n",
       "        ReleaseNumber  New_Release_Flag  StrengthFactor  PriceReg  \\\n",
       "0                  15                 1    6.827430e+05     44.99   \n",
       "1                   7                 1    1.016014e+06     24.81   \n",
       "2                   0                 0    3.404640e+05     46.00   \n",
       "3                   4                 1    3.340110e+05    100.00   \n",
       "4                   2                 1    1.287938e+06    121.95   \n",
       "...               ...               ...             ...       ...   \n",
       "198912              7                 1    2.101869e+05     72.87   \n",
       "198913              8                 1    4.555041e+05    247.00   \n",
       "198914              2                 1    1.692746e+05     50.00   \n",
       "198915              2                 1    3.775266e+05     46.95   \n",
       "198916             15                 1    1.183068e+05    120.00   \n",
       "\n",
       "        ReleaseYear  ItemCount  LowUserPrice  LowNetPrice  \n",
       "0              2015          8         28.97        31.84  \n",
       "1              2005         39          0.00        15.54  \n",
       "2              2013         34         30.19        27.97  \n",
       "3              2006         20        133.93        83.15  \n",
       "4              2010         28          4.00        23.99  \n",
       "...             ...        ...           ...          ...  \n",
       "198912         2006         54          8.46        60.59  \n",
       "198913         2009         65          8.40        74.85  \n",
       "198914         2012         23         23.98        32.62  \n",
       "198915         2001         23         27.42        37.89  \n",
       "198916         2010         44         10.97        60.67  \n",
       "\n",
       "[198917 rows x 14 columns]"
      ]
     },
     "execution_count": 5,
     "metadata": {},
     "output_type": "execute_result"
    }
   ],
   "source": [
    "df"
   ]
  },
  {
   "cell_type": "markdown",
   "id": "b83b3f9f-3154-45e3-8b93-1e2134f09864",
   "metadata": {},
   "source": [
    "#### Now We will clean the data for analysis"
   ]
  },
  {
   "cell_type": "code",
   "execution_count": 8,
   "id": "44f5cbf8-ec00-47c9-8eed-c3484116e264",
   "metadata": {},
   "outputs": [
    {
     "name": "stdout",
     "output_type": "stream",
     "text": [
      "Number of duplicate rows: 0\n"
     ]
    }
   ],
   "source": [
    "## In order to check the duplicates values we will write\n",
    "duplicates = df.duplicated().sum()\n",
    "print(f\"Number of duplicate rows: {duplicates}\")"
   ]
  },
  {
   "cell_type": "code",
   "execution_count": 10,
   "id": "dce00893-b6c7-4728-b952-4636cfd10ed4",
   "metadata": {},
   "outputs": [
    {
     "name": "stdout",
     "output_type": "stream",
     "text": [
      "Order                    0\n",
      "File_Type                0\n",
      "SKU_number               0\n",
      "SoldFlag            122921\n",
      "SoldCount           122921\n",
      "MarketingType            0\n",
      "ReleaseNumber            0\n",
      "New_Release_Flag         0\n",
      "StrengthFactor           0\n",
      "PriceReg                 0\n",
      "ReleaseYear              0\n",
      "ItemCount                0\n",
      "LowUserPrice             0\n",
      "LowNetPrice              0\n",
      "dtype: int64\n"
     ]
    }
   ],
   "source": [
    "## Now we will check for the null values\n",
    "print(df.isnull().sum())"
   ]
  },
  {
   "cell_type": "markdown",
   "id": "66d170fb-7e82-4faf-8ad9-efe327105cd3",
   "metadata": {},
   "source": [
    "#####  We can see that null values are present in 2 columns. So, we need to handle these Null values"
   ]
  },
  {
   "cell_type": "code",
   "execution_count": 13,
   "id": "dd1f360e-b101-4e8a-8524-583e71a9963a",
   "metadata": {},
   "outputs": [],
   "source": [
    "df['SoldFlag'].fillna(0, inplace=True)\n",
    "df['SoldCount'].fillna(0, inplace=True)"
   ]
  },
  {
   "cell_type": "code",
   "execution_count": 15,
   "id": "416bdc79-e7b4-4601-8dcf-e8ce11d5a63e",
   "metadata": {},
   "outputs": [
    {
     "name": "stdout",
     "output_type": "stream",
     "text": [
      "Order               0\n",
      "File_Type           0\n",
      "SKU_number          0\n",
      "SoldFlag            0\n",
      "SoldCount           0\n",
      "MarketingType       0\n",
      "ReleaseNumber       0\n",
      "New_Release_Flag    0\n",
      "StrengthFactor      0\n",
      "PriceReg            0\n",
      "ReleaseYear         0\n",
      "ItemCount           0\n",
      "LowUserPrice        0\n",
      "LowNetPrice         0\n",
      "dtype: int64\n"
     ]
    }
   ],
   "source": [
    "print(df.isnull().sum())"
   ]
  },
  {
   "cell_type": "markdown",
   "id": "63fa577b-3426-449d-b657-977a1eabd982",
   "metadata": {},
   "source": [
    "##### Now, after handling the missing data we do not have any null values present in the dataset\r\n",
    "\r\n",
    "#### We will save the file and perform some operations in it described as below"
   ]
  },
  {
   "cell_type": "code",
   "execution_count": 18,
   "id": "748d7c66-6df2-4da2-9789-ee970b4f4a3e",
   "metadata": {},
   "outputs": [],
   "source": [
    "df.to_excel('Cleaned Boxify Dataset.xlsx', index=False)"
   ]
  },
  {
   "cell_type": "code",
   "execution_count": 20,
   "id": "ec66a527-c6f1-486e-944b-f8306198a7b9",
   "metadata": {},
   "outputs": [],
   "source": [
    "from IPython.display import FileLink"
   ]
  },
  {
   "cell_type": "code",
   "execution_count": 22,
   "id": "2cf3b3e9-0fc3-4a65-9bcb-7f95f3b5dd37",
   "metadata": {},
   "outputs": [
    {
     "data": {
      "text/html": [
       "<a href='Cleaned Boxify Dataset.xlsx' target='_blank'>Cleaned Boxify Dataset.xlsx</a><br>"
      ],
      "text/plain": [
       "C:\\Users\\sugan\\Cleaned Boxify Dataset.xlsx"
      ]
     },
     "execution_count": 22,
     "metadata": {},
     "output_type": "execute_result"
    }
   ],
   "source": [
    "FileLink('Cleaned Boxify Dataset.xlsx')"
   ]
  },
  {
   "cell_type": "code",
   "execution_count": 24,
   "id": "2d1accdd-4610-4b31-97ff-26f7fae94e00",
   "metadata": {},
   "outputs": [],
   "source": [
    "da= pd.read_excel('Cleaned Boxify Dataset.xlsx')"
   ]
  },
  {
   "cell_type": "code",
   "execution_count": 25,
   "id": "f68f4db2-b695-4af9-b951-5dea5da8d558",
   "metadata": {},
   "outputs": [
    {
     "data": {
      "text/html": [
       "<div>\n",
       "<style scoped>\n",
       "    .dataframe tbody tr th:only-of-type {\n",
       "        vertical-align: middle;\n",
       "    }\n",
       "\n",
       "    .dataframe tbody tr th {\n",
       "        vertical-align: top;\n",
       "    }\n",
       "\n",
       "    .dataframe thead th {\n",
       "        text-align: right;\n",
       "    }\n",
       "</style>\n",
       "<table border=\"1\" class=\"dataframe\">\n",
       "  <thead>\n",
       "    <tr style=\"text-align: right;\">\n",
       "      <th></th>\n",
       "      <th>Order</th>\n",
       "      <th>File_Type</th>\n",
       "      <th>SKU_number</th>\n",
       "      <th>SoldFlag</th>\n",
       "      <th>SoldCount</th>\n",
       "      <th>MarketingType</th>\n",
       "      <th>ReleaseNumber</th>\n",
       "      <th>New_Release_Flag</th>\n",
       "      <th>StrengthFactor</th>\n",
       "      <th>PriceReg</th>\n",
       "      <th>ReleaseYear</th>\n",
       "      <th>ItemCount</th>\n",
       "      <th>LowUserPrice</th>\n",
       "      <th>LowNetPrice</th>\n",
       "    </tr>\n",
       "  </thead>\n",
       "  <tbody>\n",
       "    <tr>\n",
       "      <th>0</th>\n",
       "      <td>2</td>\n",
       "      <td>Historical</td>\n",
       "      <td>1737127</td>\n",
       "      <td>0</td>\n",
       "      <td>0</td>\n",
       "      <td>D</td>\n",
       "      <td>15</td>\n",
       "      <td>1</td>\n",
       "      <td>6.827430e+05</td>\n",
       "      <td>44.99</td>\n",
       "      <td>2015</td>\n",
       "      <td>8</td>\n",
       "      <td>28.97</td>\n",
       "      <td>31.84</td>\n",
       "    </tr>\n",
       "    <tr>\n",
       "      <th>1</th>\n",
       "      <td>3</td>\n",
       "      <td>Historical</td>\n",
       "      <td>3255963</td>\n",
       "      <td>0</td>\n",
       "      <td>0</td>\n",
       "      <td>D</td>\n",
       "      <td>7</td>\n",
       "      <td>1</td>\n",
       "      <td>1.016014e+06</td>\n",
       "      <td>24.81</td>\n",
       "      <td>2005</td>\n",
       "      <td>39</td>\n",
       "      <td>0.00</td>\n",
       "      <td>15.54</td>\n",
       "    </tr>\n",
       "    <tr>\n",
       "      <th>2</th>\n",
       "      <td>4</td>\n",
       "      <td>Historical</td>\n",
       "      <td>612701</td>\n",
       "      <td>0</td>\n",
       "      <td>0</td>\n",
       "      <td>D</td>\n",
       "      <td>0</td>\n",
       "      <td>0</td>\n",
       "      <td>3.404640e+05</td>\n",
       "      <td>46.00</td>\n",
       "      <td>2013</td>\n",
       "      <td>34</td>\n",
       "      <td>30.19</td>\n",
       "      <td>27.97</td>\n",
       "    </tr>\n",
       "    <tr>\n",
       "      <th>3</th>\n",
       "      <td>6</td>\n",
       "      <td>Historical</td>\n",
       "      <td>115883</td>\n",
       "      <td>1</td>\n",
       "      <td>1</td>\n",
       "      <td>D</td>\n",
       "      <td>4</td>\n",
       "      <td>1</td>\n",
       "      <td>3.340110e+05</td>\n",
       "      <td>100.00</td>\n",
       "      <td>2006</td>\n",
       "      <td>20</td>\n",
       "      <td>133.93</td>\n",
       "      <td>83.15</td>\n",
       "    </tr>\n",
       "    <tr>\n",
       "      <th>4</th>\n",
       "      <td>7</td>\n",
       "      <td>Historical</td>\n",
       "      <td>863939</td>\n",
       "      <td>1</td>\n",
       "      <td>1</td>\n",
       "      <td>D</td>\n",
       "      <td>2</td>\n",
       "      <td>1</td>\n",
       "      <td>1.287938e+06</td>\n",
       "      <td>121.95</td>\n",
       "      <td>2010</td>\n",
       "      <td>28</td>\n",
       "      <td>4.00</td>\n",
       "      <td>23.99</td>\n",
       "    </tr>\n",
       "    <tr>\n",
       "      <th>...</th>\n",
       "      <td>...</td>\n",
       "      <td>...</td>\n",
       "      <td>...</td>\n",
       "      <td>...</td>\n",
       "      <td>...</td>\n",
       "      <td>...</td>\n",
       "      <td>...</td>\n",
       "      <td>...</td>\n",
       "      <td>...</td>\n",
       "      <td>...</td>\n",
       "      <td>...</td>\n",
       "      <td>...</td>\n",
       "      <td>...</td>\n",
       "      <td>...</td>\n",
       "    </tr>\n",
       "    <tr>\n",
       "      <th>198912</th>\n",
       "      <td>208023</td>\n",
       "      <td>Active</td>\n",
       "      <td>109683</td>\n",
       "      <td>0</td>\n",
       "      <td>0</td>\n",
       "      <td>D</td>\n",
       "      <td>7</td>\n",
       "      <td>1</td>\n",
       "      <td>2.101869e+05</td>\n",
       "      <td>72.87</td>\n",
       "      <td>2006</td>\n",
       "      <td>54</td>\n",
       "      <td>8.46</td>\n",
       "      <td>60.59</td>\n",
       "    </tr>\n",
       "    <tr>\n",
       "      <th>198913</th>\n",
       "      <td>208024</td>\n",
       "      <td>Active</td>\n",
       "      <td>416462</td>\n",
       "      <td>0</td>\n",
       "      <td>0</td>\n",
       "      <td>D</td>\n",
       "      <td>8</td>\n",
       "      <td>1</td>\n",
       "      <td>4.555041e+05</td>\n",
       "      <td>247.00</td>\n",
       "      <td>2009</td>\n",
       "      <td>65</td>\n",
       "      <td>8.40</td>\n",
       "      <td>74.85</td>\n",
       "    </tr>\n",
       "    <tr>\n",
       "      <th>198914</th>\n",
       "      <td>208025</td>\n",
       "      <td>Active</td>\n",
       "      <td>658242</td>\n",
       "      <td>0</td>\n",
       "      <td>0</td>\n",
       "      <td>S</td>\n",
       "      <td>2</td>\n",
       "      <td>1</td>\n",
       "      <td>1.692746e+05</td>\n",
       "      <td>50.00</td>\n",
       "      <td>2012</td>\n",
       "      <td>23</td>\n",
       "      <td>23.98</td>\n",
       "      <td>32.62</td>\n",
       "    </tr>\n",
       "    <tr>\n",
       "      <th>198915</th>\n",
       "      <td>208026</td>\n",
       "      <td>Active</td>\n",
       "      <td>2538340</td>\n",
       "      <td>0</td>\n",
       "      <td>0</td>\n",
       "      <td>S</td>\n",
       "      <td>2</td>\n",
       "      <td>1</td>\n",
       "      <td>3.775266e+05</td>\n",
       "      <td>46.95</td>\n",
       "      <td>2001</td>\n",
       "      <td>23</td>\n",
       "      <td>27.42</td>\n",
       "      <td>37.89</td>\n",
       "    </tr>\n",
       "    <tr>\n",
       "      <th>198916</th>\n",
       "      <td>208027</td>\n",
       "      <td>Active</td>\n",
       "      <td>416662</td>\n",
       "      <td>0</td>\n",
       "      <td>0</td>\n",
       "      <td>D</td>\n",
       "      <td>15</td>\n",
       "      <td>1</td>\n",
       "      <td>1.183068e+05</td>\n",
       "      <td>120.00</td>\n",
       "      <td>2010</td>\n",
       "      <td>44</td>\n",
       "      <td>10.97</td>\n",
       "      <td>60.67</td>\n",
       "    </tr>\n",
       "  </tbody>\n",
       "</table>\n",
       "<p>198917 rows × 14 columns</p>\n",
       "</div>"
      ],
      "text/plain": [
       "         Order   File_Type  SKU_number  SoldFlag  SoldCount MarketingType  \\\n",
       "0            2  Historical     1737127         0          0             D   \n",
       "1            3  Historical     3255963         0          0             D   \n",
       "2            4  Historical      612701         0          0             D   \n",
       "3            6  Historical      115883         1          1             D   \n",
       "4            7  Historical      863939         1          1             D   \n",
       "...        ...         ...         ...       ...        ...           ...   \n",
       "198912  208023      Active      109683         0          0             D   \n",
       "198913  208024      Active      416462         0          0             D   \n",
       "198914  208025      Active      658242         0          0             S   \n",
       "198915  208026      Active     2538340         0          0             S   \n",
       "198916  208027      Active      416662         0          0             D   \n",
       "\n",
       "        ReleaseNumber  New_Release_Flag  StrengthFactor  PriceReg  \\\n",
       "0                  15                 1    6.827430e+05     44.99   \n",
       "1                   7                 1    1.016014e+06     24.81   \n",
       "2                   0                 0    3.404640e+05     46.00   \n",
       "3                   4                 1    3.340110e+05    100.00   \n",
       "4                   2                 1    1.287938e+06    121.95   \n",
       "...               ...               ...             ...       ...   \n",
       "198912              7                 1    2.101869e+05     72.87   \n",
       "198913              8                 1    4.555041e+05    247.00   \n",
       "198914              2                 1    1.692746e+05     50.00   \n",
       "198915              2                 1    3.775266e+05     46.95   \n",
       "198916             15                 1    1.183068e+05    120.00   \n",
       "\n",
       "        ReleaseYear  ItemCount  LowUserPrice  LowNetPrice  \n",
       "0              2015          8         28.97        31.84  \n",
       "1              2005         39          0.00        15.54  \n",
       "2              2013         34         30.19        27.97  \n",
       "3              2006         20        133.93        83.15  \n",
       "4              2010         28          4.00        23.99  \n",
       "...             ...        ...           ...          ...  \n",
       "198912         2006         54          8.46        60.59  \n",
       "198913         2009         65          8.40        74.85  \n",
       "198914         2012         23         23.98        32.62  \n",
       "198915         2001         23         27.42        37.89  \n",
       "198916         2010         44         10.97        60.67  \n",
       "\n",
       "[198917 rows x 14 columns]"
      ]
     },
     "execution_count": 25,
     "metadata": {},
     "output_type": "execute_result"
    }
   ],
   "source": [
    "da"
   ]
  },
  {
   "cell_type": "markdown",
   "id": "d684d134-fc03-4d50-ab54-cd56862a0b88",
   "metadata": {},
   "source": [
    "### Exploratory Data Analysis (EDA)"
   ]
  },
  {
   "cell_type": "markdown",
   "id": "802489ac-db24-4f15-8ed1-6c7b07a7a8aa",
   "metadata": {},
   "source": [
    "##### 1st point - Analyze sales trends and variations over time.(Aggregate Sales Data by Year)"
   ]
  },
  {
   "cell_type": "code",
   "execution_count": 30,
   "id": "f4e347c4-443a-43d8-8d2a-041fe9fd51d5",
   "metadata": {},
   "outputs": [
    {
     "data": {
      "text/html": [
       "<div>\n",
       "<style scoped>\n",
       "    .dataframe tbody tr th:only-of-type {\n",
       "        vertical-align: middle;\n",
       "    }\n",
       "\n",
       "    .dataframe tbody tr th {\n",
       "        vertical-align: top;\n",
       "    }\n",
       "\n",
       "    .dataframe thead th {\n",
       "        text-align: right;\n",
       "    }\n",
       "</style>\n",
       "<table border=\"1\" class=\"dataframe\">\n",
       "  <thead>\n",
       "    <tr style=\"text-align: right;\">\n",
       "      <th></th>\n",
       "      <th>ReleaseYear</th>\n",
       "      <th>SoldCount</th>\n",
       "    </tr>\n",
       "  </thead>\n",
       "  <tbody>\n",
       "    <tr>\n",
       "      <th>0</th>\n",
       "      <td>0</td>\n",
       "      <td>0</td>\n",
       "    </tr>\n",
       "    <tr>\n",
       "      <th>1</th>\n",
       "      <td>1900</td>\n",
       "      <td>0</td>\n",
       "    </tr>\n",
       "    <tr>\n",
       "      <th>2</th>\n",
       "      <td>1904</td>\n",
       "      <td>0</td>\n",
       "    </tr>\n",
       "    <tr>\n",
       "      <th>3</th>\n",
       "      <td>1905</td>\n",
       "      <td>0</td>\n",
       "    </tr>\n",
       "    <tr>\n",
       "      <th>4</th>\n",
       "      <td>1914</td>\n",
       "      <td>0</td>\n",
       "    </tr>\n",
       "    <tr>\n",
       "      <th>...</th>\n",
       "      <td>...</td>\n",
       "      <td>...</td>\n",
       "    </tr>\n",
       "    <tr>\n",
       "      <th>80</th>\n",
       "      <td>2014</td>\n",
       "      <td>794</td>\n",
       "    </tr>\n",
       "    <tr>\n",
       "      <th>81</th>\n",
       "      <td>2015</td>\n",
       "      <td>122</td>\n",
       "    </tr>\n",
       "    <tr>\n",
       "      <th>82</th>\n",
       "      <td>2016</td>\n",
       "      <td>3</td>\n",
       "    </tr>\n",
       "    <tr>\n",
       "      <th>83</th>\n",
       "      <td>2017</td>\n",
       "      <td>0</td>\n",
       "    </tr>\n",
       "    <tr>\n",
       "      <th>84</th>\n",
       "      <td>2018</td>\n",
       "      <td>0</td>\n",
       "    </tr>\n",
       "  </tbody>\n",
       "</table>\n",
       "<p>85 rows × 2 columns</p>\n",
       "</div>"
      ],
      "text/plain": [
       "    ReleaseYear  SoldCount\n",
       "0             0          0\n",
       "1          1900          0\n",
       "2          1904          0\n",
       "3          1905          0\n",
       "4          1914          0\n",
       "..          ...        ...\n",
       "80         2014        794\n",
       "81         2015        122\n",
       "82         2016          3\n",
       "83         2017          0\n",
       "84         2018          0\n",
       "\n",
       "[85 rows x 2 columns]"
      ]
     },
     "execution_count": 30,
     "metadata": {},
     "output_type": "execute_result"
    }
   ],
   "source": [
    "sales_trends = da.groupby('ReleaseYear')['SoldCount'].sum().reset_index()\n",
    "sales_trends"
   ]
  },
  {
   "cell_type": "code",
   "execution_count": 32,
   "id": "4618509d-1148-44ef-9bef-c40026c8b0af",
   "metadata": {},
   "outputs": [
    {
     "name": "stdout",
     "output_type": "stream",
     "text": [
      "    ReleaseYear  SoldCount           Trend\n",
      "0             0          0  low sales year\n",
      "1          1900          0  low sales year\n",
      "2          1904          0  low sales year\n",
      "3          1905          0  low sales year\n",
      "4          1914          0  low sales year\n",
      "..          ...        ...             ...\n",
      "80         2014        794       Peak Year\n",
      "81         2015        122     Normal Year\n",
      "82         2016          3  low sales year\n",
      "83         2017          0  low sales year\n",
      "84         2018          0  low sales year\n",
      "\n",
      "[85 rows x 3 columns]\n"
     ]
    }
   ],
   "source": [
    "# Apply the seasonal trend logic to classify sales trends\n",
    "def classify_sales_trend(sales):\n",
    "    if sales < 20:\n",
    "        return \"low sales year\"\n",
    "    elif sales < 200:\n",
    "        return \"Normal Year\"\n",
    "    else:\n",
    "        return \"Peak Year\"\n",
    "sales_trends['Trend'] = sales_trends['SoldCount'].apply(classify_sales_trend)\n",
    "print(sales_trends)"
   ]
  },
  {
   "cell_type": "markdown",
   "id": "54da6984-08d3-4a44-8a61-25b7d525fe4a",
   "metadata": {},
   "source": [
    "##### 2 Point- Identify top-selling products and categories."
   ]
  },
  {
   "cell_type": "code",
   "execution_count": 35,
   "id": "4629a574-70c8-45b5-a4f9-e29d30ebe3fd",
   "metadata": {},
   "outputs": [],
   "source": [
    "top_products = da.groupby('SKU_number')['SoldCount'].sum().sort_values(ascending=False).head(10)"
   ]
  },
  {
   "cell_type": "code",
   "execution_count": 37,
   "id": "11b8a90f-c1b5-4f82-8bdc-4c27a52676a2",
   "metadata": {},
   "outputs": [
    {
     "data": {
      "text/plain": [
       "SKU_number\n",
       "665269    73\n",
       "613864    69\n",
       "141848    51\n",
       "254518    40\n",
       "767846    36\n",
       "55769     36\n",
       "416609    35\n",
       "243550    34\n",
       "141824    33\n",
       "747765    30\n",
       "Name: SoldCount, dtype: int64"
      ]
     },
     "execution_count": 37,
     "metadata": {},
     "output_type": "execute_result"
    }
   ],
   "source": [
    "top_products"
   ]
  },
  {
   "cell_type": "code",
   "execution_count": 39,
   "id": "04c09756-4d9f-44eb-a30b-2b0aa9fa24a0",
   "metadata": {},
   "outputs": [
    {
     "data": {
      "text/plain": [
       "File_Type\n",
       "Historical    24494\n",
       "Active            0\n",
       "Name: SoldCount, dtype: int64"
      ]
     },
     "execution_count": 39,
     "metadata": {},
     "output_type": "execute_result"
    }
   ],
   "source": [
    "top_categories = da.groupby('File_Type')['SoldCount'].sum().sort_values(ascending=False)\n",
    "top_categories"
   ]
  },
  {
   "cell_type": "markdown",
   "id": "efca7aa0-885c-4cc0-b3c8-867da285a745",
   "metadata": {},
   "source": [
    "##### 3 Point- Investigate stock levels and low-stock items while performing EDA"
   ]
  },
  {
   "cell_type": "code",
   "execution_count": 42,
   "id": "95122956-f384-415b-b33d-1033c55eadc5",
   "metadata": {},
   "outputs": [],
   "source": [
    "stock_level = da.groupby('SKU_number')['ItemCount'].sum().sort_values(ascending=False)"
   ]
  },
  {
   "cell_type": "code",
   "execution_count": 44,
   "id": "535787c5-ec58-4050-932d-7b24e1b89791",
   "metadata": {},
   "outputs": [
    {
     "data": {
      "text/plain": [
       "SKU_number\n",
       "536345     3046\n",
       "198645     2852\n",
       "672549     2542\n",
       "543471     1920\n",
       "612805     1860\n",
       "           ... \n",
       "862455        0\n",
       "2281256       0\n",
       "2281296       0\n",
       "2281309       0\n",
       "2558237       0\n",
       "Name: ItemCount, Length: 133360, dtype: int64"
      ]
     },
     "execution_count": 44,
     "metadata": {},
     "output_type": "execute_result"
    }
   ],
   "source": [
    "stock_level"
   ]
  },
  {
   "cell_type": "code",
   "execution_count": 46,
   "id": "1b31898e-f7e8-4846-ad93-85f61bbad596",
   "metadata": {},
   "outputs": [
    {
     "name": "stdout",
     "output_type": "stream",
     "text": [
      "Low-stock items:\n",
      "        SKU_number  ItemCount\n",
      "0          1737127          8\n",
      "118         873654          5\n",
      "350         613288          9\n",
      "797         521116          2\n",
      "1073        659971          8\n",
      "...            ...        ...\n",
      "197792      766251          6\n",
      "198244     2511839          7\n",
      "198260     2287680          0\n",
      "198310     1456205          9\n",
      "198520     1624605          2\n",
      "\n",
      "[3379 rows x 2 columns]\n"
     ]
    }
   ],
   "source": [
    "## Show only those SKU_number whose item count is less than or equals to 10\n",
    "thresold= 10\n",
    "low_stock_items = da[da['ItemCount'] < thresold]\n",
    "\n",
    "print(\"Low-stock items:\")\n",
    "print(low_stock_items[['SKU_number', 'ItemCount']])\n"
   ]
  },
  {
   "cell_type": "code",
   "execution_count": 48,
   "id": "f467930b-64ee-480f-b405-37fe1a8237d2",
   "metadata": {},
   "outputs": [],
   "source": [
    "low_stock_summary=low_stock_items.groupby('SKU_number')['ItemCount'].min().sort_values().head(100)"
   ]
  },
  {
   "cell_type": "code",
   "execution_count": 50,
   "id": "93dadb5c-0209-49d7-82d7-4f7daeb29f97",
   "metadata": {},
   "outputs": [
    {
     "data": {
      "text/plain": [
       "SKU_number\n",
       "2032231    0\n",
       "3530648    0\n",
       "3748942    0\n",
       "2287580    0\n",
       "2287680    0\n",
       "          ..\n",
       "2299367    0\n",
       "2298513    0\n",
       "2575187    0\n",
       "3634467    0\n",
       "2291822    0\n",
       "Name: ItemCount, Length: 100, dtype: int64"
      ]
     },
     "execution_count": 50,
     "metadata": {},
     "output_type": "execute_result"
    }
   ],
   "source": [
    "low_stock_summary"
   ]
  },
  {
   "cell_type": "markdown",
   "id": "0a7dc64b-c9bb-41a3-984d-66a9e8888935",
   "metadata": {},
   "source": [
    "### Inventory Insights and Recommendations"
   ]
  },
  {
   "cell_type": "markdown",
   "id": "71174392-c506-48db-a466-0b2a71a3e2c2",
   "metadata": {},
   "source": [
    "#### Calculate key performance indicators (e.g., inventory turnover, stock-to-sales ratio, reorder points)."
   ]
  },
  {
   "cell_type": "markdown",
   "id": "b3a3fd84-8cf5-4911-bf8f-dc4f7c6032ec",
   "metadata": {},
   "source": [
    "#### 1st KPI- Inventory Turnover"
   ]
  },
  {
   "cell_type": "code",
   "execution_count": 55,
   "id": "e0dc92aa-5da1-40c9-abf6-987666218819",
   "metadata": {},
   "outputs": [
    {
     "data": {
      "text/plain": [
       "41.42628332420055"
      ]
     },
     "execution_count": 55,
     "metadata": {},
     "output_type": "execute_result"
    }
   ],
   "source": [
    "## We have to calculate average inventory because it is used in inventory turnover\n",
    "avg_inventory=da['ItemCount'].mean()\n",
    "avg_inventory"
   ]
  },
  {
   "cell_type": "code",
   "execution_count": 57,
   "id": "2599ea2b-4501-4fab-bb5c-062309bb34ba",
   "metadata": {},
   "outputs": [
    {
     "name": "stdout",
     "output_type": "stream",
     "text": [
      "Inventory Turnover: 591.27\n"
     ]
    }
   ],
   "source": [
    "# Example formula: Inventory Turnover = Total SoldCount / Average ItemCount\n",
    "inventory_turnover = da['SoldCount'].sum() / avg_inventory\n",
    "print(f\"Inventory Turnover: {inventory_turnover:.2f}\")"
   ]
  },
  {
   "cell_type": "markdown",
   "id": "36a2c411-29ee-45d3-9fd7-1885266abf49",
   "metadata": {},
   "source": [
    "#### 2nd KPI- Reorder Points"
   ]
  },
  {
   "cell_type": "code",
   "execution_count": 60,
   "id": "56d17bd4-c811-4a7b-a419-8724bf0e3001",
   "metadata": {},
   "outputs": [
    {
     "data": {
      "text/plain": [
       "24494"
      ]
     },
     "execution_count": 60,
     "metadata": {},
     "output_type": "execute_result"
    }
   ],
   "source": [
    "## we have to calculate total sales because it used in reorder points\n",
    "total_sales=da['SoldCount'].sum()\n",
    "total_sales"
   ]
  },
  {
   "cell_type": "markdown",
   "id": "a84eda81-17ea-466d-bba0-6bdaba877b36",
   "metadata": {},
   "source": [
    "### 3rd KPI- Stock To Sales Ratio"
   ]
  },
  {
   "cell_type": "code",
   "execution_count": 63,
   "id": "9d4c7288-e168-4294-9749-f1742f47bc17",
   "metadata": {},
   "outputs": [
    {
     "name": "stdout",
     "output_type": "stream",
     "text": [
      "Stock-to-Sales Ratio:, 0.0017\n"
     ]
    }
   ],
   "source": [
    "#Stock-to-sales ratio\n",
    "stock_to_sales_ratio = avg_inventory/total_sales\n",
    "print(f\"Stock-to-Sales Ratio:, {stock_to_sales_ratio:.4f}\")"
   ]
  },
  {
   "cell_type": "code",
   "execution_count": 65,
   "id": "01a542d4-62fc-4b6f-a220-c5d13098362e",
   "metadata": {},
   "outputs": [
    {
     "data": {
      "text/plain": [
       "67.10684931506849"
      ]
     },
     "execution_count": 65,
     "metadata": {},
     "output_type": "execute_result"
    }
   ],
   "source": [
    "lead_days = 7\n",
    "days_in_datasets = 365\n",
    "## To calculate average_daily_sales we have to divide total_sales by the days_in_datasets\n",
    "avg_daily_sales=total_sales/days_in_datasets\n",
    "avg_daily_sales"
   ]
  },
  {
   "cell_type": "code",
   "execution_count": 67,
   "id": "871dbe7e-519f-4b39-a25b-3d6886605d83",
   "metadata": {},
   "outputs": [
    {
     "name": "stdout",
     "output_type": "stream",
     "text": [
      "Reorder Points= 469.7479452054794\n"
     ]
    }
   ],
   "source": [
    "## To calculate Reorder Point we have to multiply avg_daily_sales with lead_days\n",
    "reorder_point= avg_daily_sales*lead_days\n",
    "print(\"Reorder Points=\",reorder_point)"
   ]
  },
  {
   "cell_type": "markdown",
   "id": "b081eac2-e49e-400f-abae-14c1e0995b2f",
   "metadata": {},
   "source": [
    "#### Action Recommendations"
   ]
  },
  {
   "cell_type": "code",
   "execution_count": 70,
   "id": "7d608f63-bb2e-4439-82d8-86e25a279247",
   "metadata": {},
   "outputs": [
    {
     "data": {
      "text/plain": [
       "['Ensure sufficient stock levels for SKU 665269 to meet demand.',\n",
       " 'Ensure sufficient stock levels for SKU 613864 to meet demand.',\n",
       " 'Ensure sufficient stock levels for SKU 141848 to meet demand.',\n",
       " 'Ensure sufficient stock levels for SKU 254518 to meet demand.',\n",
       " 'Ensure sufficient stock levels for SKU 767846 to meet demand.',\n",
       " 'Ensure sufficient stock levels for SKU 55769 to meet demand.',\n",
       " 'Ensure sufficient stock levels for SKU 416609 to meet demand.',\n",
       " 'Ensure sufficient stock levels for SKU 243550 to meet demand.',\n",
       " 'Ensure sufficient stock levels for SKU 141824 to meet demand.',\n",
       " 'Ensure sufficient stock levels for SKU 747765 to meet demand.']"
      ]
     },
     "execution_count": 70,
     "metadata": {},
     "output_type": "execute_result"
    }
   ],
   "source": [
    "# Identify Top Products\n",
    "top_products_recommendation = [\n",
    "    f\"Ensure sufficient stock levels for SKU {sku} to meet demand.\" \n",
    "    for sku in top_products.index\n",
    "]\n",
    "top_products_recommendation"
   ]
  },
  {
   "cell_type": "code",
   "execution_count": 72,
   "id": "965318b8-4ddb-4346-9326-71e7e3d3cc21",
   "metadata": {},
   "outputs": [
    {
     "data": {
      "text/plain": [
       "['Reorder SKU 1737127 as current stock (8) is below the threshold.',\n",
       " 'Reorder SKU 873654 as current stock (5) is below the threshold.',\n",
       " 'Reorder SKU 613288 as current stock (9) is below the threshold.',\n",
       " 'Reorder SKU 521116 as current stock (2) is below the threshold.',\n",
       " 'Reorder SKU 659971 as current stock (8) is below the threshold.',\n",
       " 'Reorder SKU 1450154 as current stock (6) is below the threshold.',\n",
       " 'Reorder SKU 146207 as current stock (6) is below the threshold.',\n",
       " 'Reorder SKU 147350 as current stock (9) is below the threshold.',\n",
       " 'Reorder SKU 1594170 as current stock (7) is below the threshold.',\n",
       " 'Reorder SKU 1632797 as current stock (8) is below the threshold.']"
      ]
     },
     "execution_count": 72,
     "metadata": {},
     "output_type": "execute_result"
    }
   ],
   "source": [
    "# Identify Low-stock\n",
    "low_stock_items_recommendation = [\n",
    "    f\"Reorder SKU {row['SKU_number']} as current stock ({row['ItemCount']}) is below the threshold.\"\n",
    "    for _, row in low_stock_items.iterrows()\n",
    "]\n",
    "low_stock_items_recommendation[:10]"
   ]
  },
  {
   "cell_type": "code",
   "execution_count": null,
   "id": "2c52ade5-0b15-4a49-b037-69e8534fe414",
   "metadata": {},
   "outputs": [],
   "source": []
  }
 ],
 "metadata": {
  "kernelspec": {
   "display_name": "Python 3 (ipykernel)",
   "language": "python",
   "name": "python3"
  },
  "language_info": {
   "codemirror_mode": {
    "name": "ipython",
    "version": 3
   },
   "file_extension": ".py",
   "mimetype": "text/x-python",
   "name": "python",
   "nbconvert_exporter": "python",
   "pygments_lexer": "ipython3",
   "version": "3.12.4"
  }
 },
 "nbformat": 4,
 "nbformat_minor": 5
}
